{
 "cells": [
  {
   "cell_type": "markdown",
   "metadata": {},
   "source": [
    "<div>\n",
    "Olá, Wail!\n",
    "\n",
    "Meu nome é Luiz. Fico feliz em revisar seu projeto. Ao longo do texto farei algumas observações sobre melhorias no código e também farei comentários sobre suas percepções sobre o assunto. Estarei aberto a feedbacks e discussões sobre o tema.\n",
    "\n",
    "**Peço que mantenha e não altere os comentários que eu fizer por aqui para que possamos nos localizar posteriormente, ok?**\n",
    "\n",
    "Mais uma coisa, vamos utilizar um código de cores para você entender o meu feedback no seu notebook. Funciona assim:\n",
    "\n",
    "<div class=\"alert alert-block alert-success\">\n",
    "<b> Comentário do revisor: </b> <a class=\"tocSkip\"></a>\n",
    "\n",
    "Sucesso. Tudo foi feito corretamente.\n",
    "</div>\n",
    "\n",
    "<div class=\"alert alert-block alert-warning\">\n",
    "<b>Comentário do revisor: </b> <a class=\"tocSkip\"></a>\n",
    "\n",
    "Alerta não crítico, mas que pode ser corrigido para melhoria geral no seu código/análise.\n",
    "</div>\n",
    "\n",
    "<div class=\"alert alert-block alert-danger\">\n",
    "\n",
    "<b>Comentário do revisor: </b> <a class=\"tocSkip\"></a>\n",
    "    \n",
    "Erro que precisa ser arrumado, caso contrário seu projeto **não** será aceito.\n",
    "</div>\n",
    "\n",
    "Você pode interagir comigo através dessa célula:\n",
    "<div class=\"alert alert-block alert-info\">\n",
    "<b>Resposta do Aluno.</b> <a class=\"tocSkip\"></a>\n",
    "    Codigo atualizado de acordo com os comentarios\n",
    "</div>"
   ]
  },
  {
   "cell_type": "markdown",
   "metadata": {},
   "source": [
    "<div class=\"alert alert-block alert-danger\">\n",
    "<b> Comentário do revisor v1 </b> <a class=\"tocSkip\"></a>\n",
    "\n",
    "<s>\n",
    "Obrigado por enviar o seu projeto e pelo esforço para executar as etapas necessárias.   \n",
    "<br>\n",
    "    \n",
    "No geral, o seu projeto está bom, você implementou corretamente a maioria das questões. Entretanto, deixei um comentário em um trecho que precisamos de um pequeno ajuste para avançarmos.\n",
    "    \n",
    "<br>\n",
    "    \n",
    "Se tiver alguma dúvida, pode contar comigo.\n",
    "    \n",
    "<br>   \n",
    "\n",
    "**Até breve!**\n",
    "</s>\n",
    "</div>"
   ]
  },
  {
   "cell_type": "markdown",
   "metadata": {},
   "source": [
    "<div class=\"alert alert-block alert-success\">\n",
    "<b> Comentário geral do revisor v2</b> <a class=\"tocSkip\"></a>\n",
    "\n",
    "Obrigado por enviar o seu projeto e fazer os ajustes sugeridos. Essa versão do seu trabalho ficou muito melhor! Espero que as sugestões sejam relevantes para projetos futuros.\n",
    "    \n",
    "<br>\n",
    "Te desejo uma jornada de muito sucesso e aprendizado.\n",
    "    \n",
    "<br>   \n",
    "    \n",
    "Qualquer dúvida, pode contar comigo.   \n",
    "    \n",
    "<br>  \n",
    "    \n",
    "**Até breve!**\n",
    "\n",
    "</div>"
   ]
  },
  {
   "cell_type": "markdown",
   "metadata": {},
   "source": [
    "# Book Market Trends and Consumer Behavior in the Post-COVID Era"
   ]
  },
  {
   "cell_type": "markdown",
   "metadata": {},
   "source": [
    "The coronavirus took the whole world by surprise, changing people's routines. City dwellers no longer spent their free time away from home, going to cafes and shopping malls; Most stayed at home reading books. This caught the attention of startups that rushed to develop new apps for book lovers.\n",
    "\n",
    "You have received a database from one of the competing services in that market. It contains data on books, publishers, authors, and customer ratings and book reviews. This information will be used to generate a valid proposition for the new product.\n",
    "\n",
    "Description of the data\n",
    "\n",
    "- Books: Contains data about books:\n",
    "\n",
    "book_id — book identifier\n",
    "\n",
    "author_id — Author identifier\n",
    "\n",
    "title — Title\n",
    "\n",
    "num_pages — number of pages\n",
    "\n",
    "publication_date — date of publication\n",
    "\n",
    "publisher_id — Publisher identifier\n",
    "\n",
    "- authors: Contains data about the authors:\n",
    "\n",
    "author_id — Author identifier\n",
    "\n",
    "author — Author\n",
    "\n",
    "- publishers: Contains data on publishers:\n",
    "\n",
    "publisher_id — Publisher identifier\n",
    "\n",
    "publisher — Publisher\n",
    "\n",
    "- Ratings: Contains data on user rating:\n",
    "\n",
    "rating_id — classification identifier\n",
    "\n",
    "book_id — book identifier\n",
    "\n",
    "username — the name of the user who reviewed the book\n",
    "\n",
    "rating — Classification\n",
    "\n",
    "- Reviews: Contains data on customer reviews:\n",
    "\n",
    "review_id — review identifier\n",
    "\n",
    "book_id — book identifier\n",
    "\n",
    "username — the name of the user who reviewed the book\n",
    "\n",
    "text — the text of the revision"
   ]
  },
  {
   "cell_type": "markdown",
   "metadata": {},
   "source": [
    "The objective of the analysis is to help in providing valuable insights into current book market dynamics, reader preferences, and publisher performance, enabling better decision-making for a new product in the book industry."
   ]
  },
  {
   "cell_type": "markdown",
   "metadata": {},
   "source": [
    "## Data Exploration"
   ]
  },
  {
   "cell_type": "markdown",
   "metadata": {},
   "source": [
    "### Connect to the database "
   ]
  },
  {
   "cell_type": "code",
   "execution_count": 5,
   "metadata": {},
   "outputs": [],
   "source": [
    "# import libraries\n",
    "import pandas as pd\n",
    "from sqlalchemy import create_engine"
   ]
  },
  {
   "cell_type": "code",
   "execution_count": 6,
   "metadata": {},
   "outputs": [],
   "source": [
    "# Connecting to database\n",
    "db_config = {\n",
    "    'user': 'practicum_student', # username\n",
    "    'pwd': 'QnmDH8Sc2TQLvy2G3Vvh7', # password\n",
    "    'host': 'yp-trainers-practicum.cluster-czs0gxyx2d8w.us-east-1.rds.amazonaws.com',\n",
    "    'port': 5432, # connection port\n",
    "    'db': 'data-analyst-final-project-db' # the name of the database\n",
    "}\n",
    "\n",
    "connection_string = 'postgresql://{}:{}@{}:{}/{}'.format(db_config['user'], db_config ['pwd'],\n",
    "                                                         db_config['host'], db_config['port'],\n",
    "                                                         db_config['db'])"
   ]
  },
  {
   "cell_type": "code",
   "execution_count": 7,
   "metadata": {},
   "outputs": [],
   "source": [
    "engine = create_engine(connection_string, connect_args={'sslmode':'require'})"
   ]
  },
  {
   "cell_type": "markdown",
   "metadata": {},
   "source": [
    "<div class=\"alert alert-block alert-warning\">\n",
    "<b> Comentário do revisor: </b> <a class=\"tocSkip\"></a>\n",
    "\n",
    "- [x] Correto. A estudante configurou corretamente a conexão com o banco de dados. Lembrando que as credenciais de um banco de dados não devem ser compartilhadas em notebooks ou códigos publicados na internet em um projeto real. Como sugestão, aqui você poderia separar os comandos acima em células diferentes para isolar a execução do código.\n",
    "- [x] A estudante explorou corretamente as tabelas do banco de dados\n",
    "- **Dica:** considere executar os comandos acima em células separadas para isolar a execução do código\n",
    "</div>"
   ]
  },
  {
   "cell_type": "markdown",
   "metadata": {},
   "source": [
    "### Load Data"
   ]
  },
  {
   "cell_type": "code",
   "execution_count": 8,
   "metadata": {},
   "outputs": [
    {
     "name": "stdout",
     "output_type": "stream",
     "text": [
      "   book_id  author_id                                              title  \\\n",
      "0        1        546                                       'Salem's Lot   \n",
      "1        2        465                 1 000 Places to See Before You Die   \n",
      "2        3        407  13 Little Blue Envelopes (Little Blue Envelope...   \n",
      "3        4         82  1491: New Revelations of the Americas Before C...   \n",
      "4        5        125                                               1776   \n",
      "\n",
      "   num_pages publication_date  publisher_id  \n",
      "0        594       2005-11-01            93  \n",
      "1        992       2003-05-22           336  \n",
      "2        322       2010-12-21           135  \n",
      "3        541       2006-10-10           309  \n",
      "4        386       2006-07-04           268   \n",
      "\n",
      "   author_id                          author\n",
      "0          1                      A.S. Byatt\n",
      "1          2  Aesop/Laura Harris/Laura Gibbs\n",
      "2          3                 Agatha Christie\n",
      "3          4                   Alan Brennert\n",
      "4          5        Alan Moore/David   Lloyd \n",
      "\n",
      "   publisher_id                          publisher\n",
      "0             1                                Ace\n",
      "1             2                           Ace Book\n",
      "2             3                          Ace Books\n",
      "3             4                      Ace Hardcover\n",
      "4             5  Addison Wesley Publishing Company \n",
      "\n",
      "   rating_id  book_id       username  rating\n",
      "0          1        1     ryanfranco       4\n",
      "1          2        1  grantpatricia       2\n",
      "2          3        1   brandtandrea       5\n",
      "3          4        2       lorichen       3\n",
      "4          5        2    mariokeller       2 \n",
      "\n",
      "   review_id  book_id       username  \\\n",
      "0          1        1   brandtandrea   \n",
      "1          2        1     ryanfranco   \n",
      "2          3        2       lorichen   \n",
      "3          4        3  johnsonamanda   \n",
      "4          5        3    scotttamara   \n",
      "\n",
      "                                                text  \n",
      "0  Mention society tell send professor analysis. ...  \n",
      "1  Foot glass pretty audience hit themselves. Amo...  \n",
      "2  Listen treat keep worry. Miss husband tax but ...  \n",
      "3  Finally month interesting blue could nature cu...  \n",
      "4  Nation purpose heavy give wait song will. List...   \n",
      "\n"
     ]
    }
   ],
   "source": [
    "# Define SQL queries for each table\n",
    "query1 = 'SELECT * FROM books;'\n",
    "query2 = 'SELECT * FROM authors;'\n",
    "query3 = 'SELECT * FROM publishers;'\n",
    "query4 = 'SELECT * FROM ratings;'\n",
    "query5 = 'SELECT * FROM reviews;'\n",
    "\n",
    "\n",
    "# Execute the queries and store in the dataframes\n",
    "books = pd.read_sql(query1, con=engine)\n",
    "authors = pd.read_sql(query2, con=engine)\n",
    "publishers = pd.read_sql(query3, con=engine)\n",
    "ratings = pd.read_sql(query4, con=engine)\n",
    "reviews = pd.read_sql(query5, con=engine)\n",
    "\n",
    "# Print the first few rows of each table\n",
    "print(books.head(), \"\\n\")\n",
    "print(authors.head(), \"\\n\")\n",
    "print(publishers.head(), \"\\n\")\n",
    "print(ratings.head(), \"\\n\")\n",
    "print(reviews.head(), \"\\n\")"
   ]
  },
  {
   "cell_type": "markdown",
   "metadata": {},
   "source": [
    "### Check for data types"
   ]
  },
  {
   "cell_type": "code",
   "execution_count": 9,
   "metadata": {},
   "outputs": [
    {
     "name": "stdout",
     "output_type": "stream",
     "text": [
      "\n",
      "Data Types for Books:\n",
      " book_id              int64\n",
      "author_id            int64\n",
      "title               object\n",
      "num_pages            int64\n",
      "publication_date    object\n",
      "publisher_id         int64\n",
      "dtype: object\n",
      "\n",
      "Data Types for Authors:\n",
      " author_id     int64\n",
      "author       object\n",
      "dtype: object\n",
      "\n",
      "Data Types for Publishers:\n",
      " publisher_id     int64\n",
      "publisher       object\n",
      "dtype: object\n",
      "\n",
      "Data Types for Ratings:\n",
      " rating_id     int64\n",
      "book_id       int64\n",
      "username     object\n",
      "rating        int64\n",
      "dtype: object\n",
      "\n",
      "Data Types for Reviews:\n",
      " review_id     int64\n",
      "book_id       int64\n",
      "username     object\n",
      "text         object\n",
      "dtype: object\n"
     ]
    }
   ],
   "source": [
    "# Check data types\n",
    "print(\"\\nData Types for Books:\\n\", books.dtypes)\n",
    "print(\"\\nData Types for Authors:\\n\", authors.dtypes)\n",
    "print(\"\\nData Types for Publishers:\\n\", publishers.dtypes)\n",
    "print(\"\\nData Types for Ratings:\\n\", ratings.dtypes)\n",
    "print(\"\\nData Types for Reviews:\\n\", reviews.dtypes)"
   ]
  },
  {
   "cell_type": "code",
   "execution_count": 10,
   "metadata": {},
   "outputs": [
    {
     "data": {
      "text/plain": [
       "book_id                      int64\n",
       "author_id                    int64\n",
       "title                       object\n",
       "num_pages                    int64\n",
       "publication_date    datetime64[ns]\n",
       "publisher_id                 int64\n",
       "dtype: object"
      ]
     },
     "execution_count": 10,
     "metadata": {},
     "output_type": "execute_result"
    }
   ],
   "source": [
    "# Convert necessary columns to datetime\n",
    "books['publication_date'] = pd.to_datetime(books['publication_date'])\n",
    "books.dtypes"
   ]
  },
  {
   "cell_type": "markdown",
   "metadata": {},
   "source": [
    "### Check for missing values"
   ]
  },
  {
   "cell_type": "code",
   "execution_count": 11,
   "metadata": {},
   "outputs": [
    {
     "name": "stdout",
     "output_type": "stream",
     "text": [
      "<class 'pandas.core.frame.DataFrame'>\n",
      "RangeIndex: 1000 entries, 0 to 999\n",
      "Data columns (total 6 columns):\n",
      " #   Column            Non-Null Count  Dtype         \n",
      "---  ------            --------------  -----         \n",
      " 0   book_id           1000 non-null   int64         \n",
      " 1   author_id         1000 non-null   int64         \n",
      " 2   title             1000 non-null   object        \n",
      " 3   num_pages         1000 non-null   int64         \n",
      " 4   publication_date  1000 non-null   datetime64[ns]\n",
      " 5   publisher_id      1000 non-null   int64         \n",
      "dtypes: datetime64[ns](1), int64(4), object(1)\n",
      "memory usage: 47.0+ KB\n",
      "<class 'pandas.core.frame.DataFrame'>\n",
      "RangeIndex: 636 entries, 0 to 635\n",
      "Data columns (total 2 columns):\n",
      " #   Column     Non-Null Count  Dtype \n",
      "---  ------     --------------  ----- \n",
      " 0   author_id  636 non-null    int64 \n",
      " 1   author     636 non-null    object\n",
      "dtypes: int64(1), object(1)\n",
      "memory usage: 10.1+ KB\n",
      "<class 'pandas.core.frame.DataFrame'>\n",
      "RangeIndex: 340 entries, 0 to 339\n",
      "Data columns (total 2 columns):\n",
      " #   Column        Non-Null Count  Dtype \n",
      "---  ------        --------------  ----- \n",
      " 0   publisher_id  340 non-null    int64 \n",
      " 1   publisher     340 non-null    object\n",
      "dtypes: int64(1), object(1)\n",
      "memory usage: 5.4+ KB\n",
      "<class 'pandas.core.frame.DataFrame'>\n",
      "RangeIndex: 6456 entries, 0 to 6455\n",
      "Data columns (total 4 columns):\n",
      " #   Column     Non-Null Count  Dtype \n",
      "---  ------     --------------  ----- \n",
      " 0   rating_id  6456 non-null   int64 \n",
      " 1   book_id    6456 non-null   int64 \n",
      " 2   username   6456 non-null   object\n",
      " 3   rating     6456 non-null   int64 \n",
      "dtypes: int64(3), object(1)\n",
      "memory usage: 201.9+ KB\n",
      "<class 'pandas.core.frame.DataFrame'>\n",
      "RangeIndex: 2793 entries, 0 to 2792\n",
      "Data columns (total 4 columns):\n",
      " #   Column     Non-Null Count  Dtype \n",
      "---  ------     --------------  ----- \n",
      " 0   review_id  2793 non-null   int64 \n",
      " 1   book_id    2793 non-null   int64 \n",
      " 2   username   2793 non-null   object\n",
      " 3   text       2793 non-null   object\n",
      "dtypes: int64(2), object(2)\n",
      "memory usage: 87.4+ KB\n"
     ]
    }
   ],
   "source": [
    "# Check missing values\n",
    "books.info()\n",
    "authors.info()\n",
    "publishers.info()\n",
    "ratings.info()\n",
    "reviews.info()"
   ]
  },
  {
   "cell_type": "markdown",
   "metadata": {},
   "source": [
    "After analysis no missing values were found"
   ]
  },
  {
   "cell_type": "markdown",
   "metadata": {},
   "source": [
    "<div class=\"alert alert-block alert-success\">\n",
    "<b> Comentário do revisor: </b> <a class=\"tocSkip\"></a>\n",
    "\n",
    "- As tabelas foram exploradas\n",
    "- Os dados ausentes e duplicados foram estudados\n",
    "</div>"
   ]
  },
  {
   "cell_type": "markdown",
   "metadata": {},
   "source": [
    "## Perform Exploratory Data Analysis (EDA)"
   ]
  },
  {
   "cell_type": "markdown",
   "metadata": {},
   "source": [
    "### Find the number of books released after January 1, 2000."
   ]
  },
  {
   "cell_type": "code",
   "execution_count": 12,
   "metadata": {},
   "outputs": [
    {
     "name": "stdout",
     "output_type": "stream",
     "text": [
      "   num_total_books\n",
      "0             1000\n",
      "   num_books_after_2000\n",
      "0                   819\n"
     ]
    }
   ],
   "source": [
    "query_total_books= \"\"\"\n",
    "SELECT COUNT(*) AS num_total_books \n",
    "FROM books;\n",
    "\"\"\"\n",
    "query_books_after_2000 = \"\"\"\n",
    "SELECT COUNT(*) AS num_books_after_2000\n",
    "FROM books \n",
    "WHERE publication_date > '2000-01-01';\n",
    "\"\"\"\n",
    "num_total_books = pd.read_sql(query_total_books, con=engine)\n",
    "num_books_after_2000 = pd.read_sql(query_books_after_2000, con=engine)\n",
    "print(num_total_books)\n",
    "print(num_books_after_2000)"
   ]
  },
  {
   "cell_type": "markdown",
   "metadata": {},
   "source": [
    "A significant majority (approximately 81.9%) of the books published after January 1, 2000, have more than 50 pages, indicating that longer works are prevalent in the market."
   ]
  },
  {
   "cell_type": "markdown",
   "metadata": {},
   "source": [
    "<div class=\"alert alert-block alert-success\">\n",
    "<b> Comentário do revisor: </b> <a class=\"tocSkip\"></a>\n",
    "\n",
    "- A quantidade de livros lançadas após Jan-2000 foi calculada\n",
    "</div>"
   ]
  },
  {
   "cell_type": "markdown",
   "metadata": {},
   "source": [
    "### Find the number of reviews and the average rating for each book."
   ]
  },
  {
   "cell_type": "code",
   "execution_count": 19,
   "metadata": {},
   "outputs": [
    {
     "name": "stdout",
     "output_type": "stream",
     "text": [
      "   book_id                                              title  num_reviews  \\\n",
      "0      518               Pop Goes the Weasel (Alex Cross  #5)            4   \n",
      "1      732  The Ghost Map: The Story of London's Most Terr...            4   \n",
      "2      347  In the Hand of the Goddess (Song of the Liones...            6   \n",
      "3      610                           Tai-Pan (Asian Saga  #2)            4   \n",
      "4      330  How to Be a Domestic Goddess: Baking and the A...            2   \n",
      "\n",
      "   avg_rating  \n",
      "0         5.0  \n",
      "1         5.0  \n",
      "2         5.0  \n",
      "3         5.0  \n",
      "4         5.0  \n",
      "\n",
      "Books with average rating > 3:\n",
      " 0      518\n",
      "1      732\n",
      "2      347\n",
      "3      610\n",
      "4      330\n",
      "      ... \n",
      "893    189\n",
      "894     10\n",
      "895    353\n",
      "896    291\n",
      "897    693\n",
      "Name: book_id, Length: 898, dtype: int64\n",
      "\n",
      "Books with more than 10 reviews:\n",
      " 7      553\n",
      "13      17\n",
      "44     195\n",
      "45     524\n",
      "46     801\n",
      "      ... \n",
      "954    443\n",
      "961    921\n",
      "965    200\n",
      "967    557\n",
      "995    915\n",
      "Name: book_id, Length: 386, dtype: int64\n"
     ]
    }
   ],
   "source": [
    "query_reviews_avg_rating = \"\"\"\n",
    "SELECT \n",
    "    b.book_id,\n",
    "    b.title,\n",
    "    COUNT(rv.review_id) AS num_reviews,\n",
    "    AVG(r.rating) AS avg_rating\n",
    "FROM \n",
    "    books b\n",
    "LEFT JOIN \n",
    "    reviews rv ON b.book_id = rv.book_id\n",
    "LEFT JOIN \n",
    "    ratings r ON b.book_id = r.book_id\n",
    "GROUP BY \n",
    "    b.book_id, b.title\n",
    "ORDER BY avg_rating DESC;\n",
    "\"\"\"\n",
    "\n",
    "# Will merge books and reviews table by book.id then merge this merged table wtih ratings by book.id\n",
    "# Then find the number of reviews and the average rating for each book\n",
    "\n",
    "# Execute the query and store the result in a DataFrame\n",
    "reviews_avg_rating_df = pd.read_sql(query_reviews_avg_rating, con=engine)\n",
    "\n",
    "# Display the first few rows of the DataFrame\n",
    "print(reviews_avg_rating_df.head())\n",
    "\n",
    "print('\\nBooks with average rating > 3:\\n', reviews_avg_rating_df.query('avg_rating > 3')['book_id'])\n",
    "print('\\nBooks with more than 10 reviews:\\n', reviews_avg_rating_df.query('num_reviews > 10')['book_id'])"
   ]
  },
  {
   "cell_type": "markdown",
   "metadata": {},
   "source": [
    "A smaller group of books (386) receives substantial engagement through reviews, which could indicate the presence of a few bestsellers or highly popular titles.\n",
    "\n",
    "Although only a subset of books has significant engagement, most books (898) receive positive ratings, showing that the platform maintains a reasonably high-quality collection."
   ]
  },
  {
   "cell_type": "markdown",
   "metadata": {},
   "source": [
    "<div class=\"alert alert-block alert-warning\">\n",
    "<b> Comentário do revisor: </b> <a class=\"tocSkip\"></a>\n",
    "\n",
    "- O número de avaliações e média foram calculados para cada livro\n",
    "- **Sugestão:** considere ordenar o resultado final em ordem descendente da nota média de avaliações.\n",
    "\n",
    "</div>"
   ]
  },
  {
   "cell_type": "markdown",
   "metadata": {},
   "source": [
    "### Identify the publisher that has released the most books over 50 pages (this will help you exclude paperbacks and similar publications from your analysis)."
   ]
  },
  {
   "cell_type": "code",
   "execution_count": 25,
   "metadata": {},
   "outputs": [
    {
     "name": "stdout",
     "output_type": "stream",
     "text": [
      "     publisher_id                     publisher  num_books_over_50_pages\n",
      "0             212                 Penguin Books                       42\n",
      "1             309                       Vintage                       31\n",
      "2             116      Grand Central Publishing                       25\n",
      "3             217              Penguin Classics                       24\n",
      "4              33              Ballantine Books                       19\n",
      "..            ...                           ...                      ...\n",
      "329            34         Ballantine Books (NY)                        1\n",
      "330           225                 Plaza y Janés                        1\n",
      "331           138       HarperCollinsPublishers                        1\n",
      "332           245  Random House: Modern Library                        1\n",
      "333           205                 Pan Childrens                        1\n",
      "\n",
      "[334 rows x 3 columns]\n"
     ]
    }
   ],
   "source": [
    "query_top_publisher = \"\"\"\n",
    "SELECT \n",
    "    p.publisher_id, \n",
    "    p.publisher, \n",
    "    COUNT(b.book_id) AS num_books_over_50_pages\n",
    "FROM \n",
    "    books b\n",
    "LEFT JOIN \n",
    "    publishers p ON b.publisher_id = p.publisher_id\n",
    "WHERE \n",
    "    b.num_pages > 50\n",
    "GROUP BY \n",
    "    p.publisher_id, p.publisher\n",
    "ORDER BY \n",
    "    num_books_over_50_pages DESC;\n",
    "\"\"\"\n",
    "\n",
    "# Will select publisher_id and number of books with over 50 pages\n",
    "# Sort number of books in descending way\n",
    "\n",
    "top_publisher = pd.read_sql(query_top_publisher, con=engine)\n",
    "print(top_publisher)"
   ]
  },
  {
   "cell_type": "markdown",
   "metadata": {},
   "source": [
    "Publisher with publisher_id = 212 has released the highest number of books with over 50 pages (42 books).\n",
    "\n",
    "The top publishers (e.g., publisher IDs 212, 309, and 116) have released significantly more books than others. The gap between the top publisher (42 books) and lower-ranked publishers indicates that book production is concentrated among a small number of publishers.\n",
    "\n",
    "Many publishers (e.g., IDs 34, 225, 138, etc.) have only released one book over 50 pages. This suggests that most publishers in the dataset produce a limited number of long-form books, likely focusing on other types of publications such as paperbacks or specialized editions."
   ]
  },
  {
   "attachments": {
    "image-2.png": {
     "image/png": "[encoded data removed]"
    }
   },
   "cell_type": "markdown",
   "metadata": {},
   "source": [
    "<div class=\"alert alert-block alert-danger\">\n",
    "<b> Comentário do revisor: </b> <a class=\"tocSkip\"></a>\n",
    "<s>\n",
    "    \n",
    "- Aqui você precisa exibir o nome da editora também. O resultado esperado é mostrado abaixo:\n",
    "    \n",
    "![image-2.png](attachment:image-2.png)\n",
    "</s>\n",
    "</div>"
   ]
  },
  {
   "cell_type": "markdown",
   "metadata": {},
   "source": [
    "### Identify the author with the highest average book rating: only look at books with at least 50 ratings."
   ]
  },
  {
   "cell_type": "code",
   "execution_count": 26,
   "metadata": {},
   "outputs": [
    {
     "name": "stdout",
     "output_type": "stream",
     "text": [
      "   author_id          author  avg_author_rating  num_ratings\n",
      "0        130  Diana Gabaldon                4.3           50\n"
     ]
    }
   ],
   "source": [
    "query_top_avg_rating_author = '''\n",
    "SELECT \n",
    "    a.author_id, \n",
    "    a.author, \n",
    "    AVG(r.rating) AS avg_author_rating,\n",
    "    COUNT(r.rating_id) AS num_ratings\n",
    "\n",
    "FROM books b\n",
    "JOIN ratings r ON b.book_id = r.book_id\n",
    "JOIN authors a ON b.author_id = a.author_id\n",
    "GROUP BY a.author_id, a.author\n",
    "HAVING COUNT(r.rating_id) >= 50\n",
    "ORDER BY avg_author_rating DESC\n",
    "LIMIT 1;\n",
    "\n",
    "'''\n",
    "\n",
    "# Will merge books, ratings table by book.id then merge this merged table wtih authors by author.id\n",
    "# Then will select only the authors that recived more than 50 ratings\n",
    "# Then find the average rating and number of ratings received by the authors\n",
    "\n",
    "top_avg_rating_author = pd.read_sql(query_top_avg_rating_author, con=engine)\n",
    "print(top_avg_rating_author)"
   ]
  },
  {
   "cell_type": "markdown",
   "metadata": {},
   "source": [
    "Diana Gabaldon leads the list with an average rating of 4.30, followed closely by J.K. Rowling (with Mary GrandPré) at 4.29 and Agatha Christie at 4.28.\n",
    "\n",
    "J.K. Rowling/Mary GrandPré not only has a high average rating but also stands out with 312 ratings, indicating both popularity and consistent positive feedback.\n",
    "\n",
    "Authors like J.K. Rowling and J.R.R. Tolkien exhibit both a high number of ratings and strong average scores, demonstrating a combination of popularity and consistent reader satisfaction.\n",
    "\n",
    "The top authors come from a variety of genres—Diana Gabaldon (historical fiction), J.K. Rowling (fantasy), Agatha Christie (mystery), and J.R.R. Tolkien (epic fantasy). This diversity suggests that high-quality writing and storytelling transcend genres."
   ]
  },
  {
   "attachments": {
    "image.png": {
     "image/png": "[encoded data removed]"
    }
   },
   "cell_type": "markdown",
   "metadata": {},
   "source": [
    "<div class=\"alert alert-block alert-danger\">\n",
    "<b> Comentário do revisor: </b> <a class=\"tocSkip\"></a>\n",
    "\n",
    "<s>\n",
    "- Aqui você precisa exibir somente o nome do autor com maior média, similar à questão anterior. Sugestão: faça um join entre as tabelas e selecione as colunas necessários.\n",
    "    \n",
    "![image.png](attachment:image.png)\n",
    "</s>\n",
    "</div>"
   ]
  },
  {
   "cell_type": "markdown",
   "metadata": {},
   "source": [
    "### Find the average number of reviews among users who have rated more than 50 books."
   ]
  },
  {
   "cell_type": "code",
   "execution_count": 38,
   "metadata": {},
   "outputs": [
    {
     "name": "stdout",
     "output_type": "stream",
     "text": [
      "   avg_reviews_per_user\n",
      "0             24.333333\n"
     ]
    }
   ],
   "source": [
    "query_avg_reviews_per_user = '''\n",
    "SELECT \n",
    "    AVG(review_count) AS avg_reviews_per_user\n",
    "FROM (\n",
    "    SELECT \n",
    "        username, \n",
    "        COUNT(review_id) AS review_count\n",
    "    FROM reviews\n",
    "    WHERE username IN \n",
    "    (\n",
    "        SELECT \n",
    "            username\n",
    "        FROM ratings\n",
    "        GROUP BY username\n",
    "        HAVING COUNT(rating_id) > 50\n",
    "    )\n",
    "    GROUP BY username\n",
    ") AS user_review_counts;\n",
    "\n",
    "'''\n",
    "# 'Where' is used to filter username that rated more than 50 books\n",
    "# Then will select the number of reviews for each of these users\n",
    "# Then find the average number of reviews among users\n",
    "\n",
    "avg_reviews_per_user = pd.read_sql(query_avg_reviews_per_user, con=engine)\n",
    "print(avg_reviews_per_user)"
   ]
  },
  {
   "cell_type": "markdown",
   "metadata": {},
   "source": [
    "The average number of reviews among users who have rated more than 50 books is approximately 24.33.\n",
    "\n",
    "Users who are highly active in rating books (more than 50 ratings) also tend to engage significantly with the review process. An average of about 24 reviews suggests that these users take the time to provide feedback on the books they read, indicating a deeper level of engagement with the material.\n",
    "\n",
    "This average number of reviews could indicate that users who rate many books tend to express their opinions more thoroughly. This could be beneficial for publishers and authors, as they can leverage this feedback for improving book quality and targeting their audience better."
   ]
  },
  {
   "cell_type": "markdown",
   "metadata": {},
   "source": [
    "<div class=\"alert alert-block alert-success\">\n",
    "<b> Comentário do revisor: </b> <a class=\"tocSkip\"></a>\n",
    "\n",
    "- O número médio de reviews para usuários que avaliaram mais de 50 livros foi executada\n",
    "- A conclusão foi apresentada\n",
    "</div>"
   ]
  },
  {
   "cell_type": "markdown",
   "metadata": {},
   "source": [
    "## Conclusions for a new product in the book industry."
   ]
  },
  {
   "cell_type": "markdown",
   "metadata": {},
   "source": [
    "Based on the analysis results it can be concluded that:\n",
    "\n",
    "A new product could emphasize the development and promotion of full-length novels, potentially appealing to avid readers seeking immersive experiences.\n",
    "\n",
    "Target the 386 books with substantial engagement through reviews for exclusive editions or marketing campaigns, as these likely represent popular titles.\n",
    "\n",
    "The existence of 898 positively rated books suggests a solid quality foundation. Curated lists and recommendations can enhance user experience and trust.\n",
    "\n",
    "Partner with leading publishers like ID 212 to create exclusive releases and promotions, leveraging their strong market presence.\n",
    "\n",
    "Many publishers have only released one long-form book. Offering platforms for independent publishers can diversify offerings and enrich the catalog.\n",
    "\n",
    "Promote authors with high ratings, such as Diana Gabaldon and J.K. Rowling, through marketing efforts and exclusive events to attract their fan bases.\n",
    "\n",
    "The average of 24.33 reviews among users who rate over 50 books indicates a dedicated community. Develop a platform for user interaction and incentivize feedback to strengthen engagement.\n",
    "\n",
    "Use reviews and ratings to guide product improvements and enhance customer satisfaction, ensuring that user suggestions are valued and acted upon."
   ]
  },
  {
   "cell_type": "markdown",
   "metadata": {},
   "source": [
    "<div class=\"alert alert-block alert-danger\">\n",
    "<b> Comentário do revisor: </b> <a class=\"tocSkip\"></a>\n",
    "\n",
    "<s>- Excelente conclusão geral. Peço somente que atualize os resultados após os ajustes sugeridos.</s>\n",
    "</div>"
   ]
  }
 ],
 "metadata": {
  "ExecuteTimeLog": [
   {
    "duration": 11,
    "start_time": "2024-10-11T15:40:30.043Z"
   },
   {
    "duration": 580,
    "start_time": "2024-10-11T15:40:50.047Z"
   },
   {
    "duration": 4,
    "start_time": "2024-10-11T15:47:40.970Z"
   },
   {
    "duration": 171,
    "start_time": "2024-10-11T15:53:36.729Z"
   },
   {
    "duration": 532,
    "start_time": "2024-10-11T15:53:40.345Z"
   },
   {
    "duration": 173,
    "start_time": "2024-10-11T15:55:46.287Z"
   },
   {
    "duration": 419,
    "start_time": "2024-10-11T15:55:51.413Z"
   },
   {
    "duration": 61,
    "start_time": "2024-10-11T15:55:52.004Z"
   },
   {
    "duration": 4,
    "start_time": "2024-10-11T15:58:32.149Z"
   },
   {
    "duration": 58,
    "start_time": "2024-10-11T15:58:33.311Z"
   },
   {
    "duration": 99,
    "start_time": "2024-10-11T16:02:53.729Z"
   },
   {
    "duration": 13,
    "start_time": "2024-10-11T16:04:47.611Z"
   },
   {
    "duration": 56,
    "start_time": "2024-10-11T16:08:58.135Z"
   },
   {
    "duration": 33,
    "start_time": "2024-10-11T16:10:08.373Z"
   },
   {
    "duration": 5,
    "start_time": "2024-10-11T16:11:59.920Z"
   },
   {
    "duration": 3,
    "start_time": "2024-10-11T16:12:10.226Z"
   },
   {
    "duration": 4,
    "start_time": "2024-10-11T16:12:19.168Z"
   },
   {
    "duration": 6,
    "start_time": "2024-10-11T16:15:04.396Z"
   },
   {
    "duration": 3,
    "start_time": "2024-10-11T16:17:08.552Z"
   },
   {
    "duration": 9,
    "start_time": "2024-10-11T16:18:02.442Z"
   },
   {
    "duration": 4,
    "start_time": "2024-10-11T16:18:29.839Z"
   },
   {
    "duration": 3,
    "start_time": "2024-10-11T16:18:46.815Z"
   },
   {
    "duration": 4,
    "start_time": "2024-10-11T16:27:45.830Z"
   },
   {
    "duration": 10,
    "start_time": "2024-10-11T16:32:19.047Z"
   },
   {
    "duration": 3,
    "start_time": "2024-10-11T16:34:22.038Z"
   },
   {
    "duration": 31,
    "start_time": "2024-10-11T16:34:58.535Z"
   },
   {
    "duration": 13,
    "start_time": "2024-10-11T16:36:06.221Z"
   },
   {
    "duration": 9,
    "start_time": "2024-10-11T16:36:38.456Z"
   },
   {
    "duration": 11,
    "start_time": "2024-10-11T16:37:26.287Z"
   },
   {
    "duration": 464,
    "start_time": "2024-10-11T16:37:46.930Z"
   },
   {
    "duration": 104,
    "start_time": "2024-10-11T16:37:58.604Z"
   },
   {
    "duration": 109,
    "start_time": "2024-10-11T16:38:13.717Z"
   },
   {
    "duration": 11,
    "start_time": "2024-10-11T16:38:25.143Z"
   },
   {
    "duration": 11,
    "start_time": "2024-10-11T16:38:30.091Z"
   },
   {
    "duration": 12,
    "start_time": "2024-10-11T16:40:16.110Z"
   },
   {
    "duration": 12,
    "start_time": "2024-10-11T16:41:00.890Z"
   },
   {
    "duration": 11,
    "start_time": "2024-10-11T16:42:36.583Z"
   },
   {
    "duration": 15,
    "start_time": "2024-10-11T16:43:37.751Z"
   },
   {
    "duration": 21,
    "start_time": "2024-10-11T16:44:20.416Z"
   },
   {
    "duration": 12,
    "start_time": "2024-10-11T16:44:34.554Z"
   },
   {
    "duration": 107,
    "start_time": "2024-10-11T16:50:43.926Z"
   },
   {
    "duration": 105,
    "start_time": "2024-10-11T16:50:56.441Z"
   },
   {
    "duration": 13,
    "start_time": "2024-10-11T16:52:36.461Z"
   },
   {
    "duration": 4,
    "start_time": "2024-10-11T16:54:02.935Z"
   },
   {
    "duration": 12,
    "start_time": "2024-10-11T16:54:03.336Z"
   },
   {
    "duration": 5,
    "start_time": "2024-10-11T16:54:14.755Z"
   },
   {
    "duration": 6,
    "start_time": "2024-10-11T16:55:05.160Z"
   },
   {
    "duration": 13,
    "start_time": "2024-10-11T16:55:46.862Z"
   },
   {
    "duration": 24,
    "start_time": "2024-10-11T16:57:04.201Z"
   },
   {
    "duration": 39,
    "start_time": "2024-10-11T16:57:24.390Z"
   },
   {
    "duration": 4,
    "start_time": "2024-10-11T16:57:46.195Z"
   },
   {
    "duration": 6,
    "start_time": "2024-10-11T16:58:02.580Z"
   },
   {
    "duration": 4,
    "start_time": "2024-10-11T16:58:08.353Z"
   },
   {
    "duration": 4,
    "start_time": "2024-10-11T16:59:07.186Z"
   },
   {
    "duration": 27,
    "start_time": "2024-10-11T17:01:53.675Z"
   },
   {
    "duration": 26,
    "start_time": "2024-10-11T17:05:44.847Z"
   },
   {
    "duration": 10,
    "start_time": "2024-10-11T17:29:21.692Z"
   },
   {
    "duration": 23,
    "start_time": "2024-10-11T17:31:05.116Z"
   },
   {
    "duration": 14,
    "start_time": "2024-10-11T17:31:18.449Z"
   },
   {
    "duration": 4,
    "start_time": "2024-10-11T17:47:21.668Z"
   },
   {
    "duration": 82,
    "start_time": "2024-10-11T17:47:22.006Z"
   },
   {
    "duration": 8,
    "start_time": "2024-10-11T17:47:22.450Z"
   },
   {
    "duration": 6,
    "start_time": "2024-10-11T17:47:22.795Z"
   },
   {
    "duration": 37,
    "start_time": "2024-10-11T17:47:23.402Z"
   },
   {
    "duration": 15,
    "start_time": "2024-10-11T17:47:25.421Z"
   },
   {
    "duration": 14,
    "start_time": "2024-10-11T17:54:23.662Z"
   },
   {
    "duration": 26,
    "start_time": "2024-10-11T17:58:21.031Z"
   },
   {
    "duration": 137,
    "start_time": "2024-10-11T17:59:13.718Z"
   },
   {
    "duration": 25,
    "start_time": "2024-10-11T18:01:23.731Z"
   },
   {
    "duration": 26,
    "start_time": "2024-10-11T18:01:57.735Z"
   },
   {
    "duration": 31,
    "start_time": "2024-10-11T18:02:22.599Z"
   },
   {
    "duration": 34,
    "start_time": "2024-10-11T18:02:33.690Z"
   },
   {
    "duration": 31,
    "start_time": "2024-10-11T18:02:45.198Z"
   },
   {
    "duration": 27,
    "start_time": "2024-10-11T18:02:50.314Z"
   },
   {
    "duration": 25,
    "start_time": "2024-10-11T18:03:16.603Z"
   },
   {
    "duration": 24,
    "start_time": "2024-10-11T18:03:35.594Z"
   },
   {
    "duration": 24,
    "start_time": "2024-10-11T18:04:46.816Z"
   },
   {
    "duration": 23,
    "start_time": "2024-10-11T18:09:29.453Z"
   },
   {
    "duration": 22,
    "start_time": "2024-10-11T18:09:54.079Z"
   },
   {
    "duration": 4,
    "start_time": "2024-10-11T18:12:31.337Z"
   },
   {
    "duration": 32,
    "start_time": "2024-10-11T18:12:45.357Z"
   },
   {
    "duration": 30,
    "start_time": "2024-10-11T18:13:08.604Z"
   },
   {
    "duration": 30,
    "start_time": "2024-10-11T18:13:23.247Z"
   },
   {
    "duration": 24,
    "start_time": "2024-10-11T18:13:53.475Z"
   },
   {
    "duration": 26,
    "start_time": "2024-10-11T18:14:06.130Z"
   },
   {
    "duration": 26,
    "start_time": "2024-10-11T18:14:15.481Z"
   },
   {
    "duration": 33,
    "start_time": "2024-10-11T18:15:19.532Z"
   },
   {
    "duration": 32,
    "start_time": "2024-10-11T18:15:32.397Z"
   },
   {
    "duration": 28,
    "start_time": "2024-10-11T18:16:11.762Z"
   },
   {
    "duration": 24,
    "start_time": "2024-10-11T18:17:17.083Z"
   },
   {
    "duration": 24,
    "start_time": "2024-10-11T18:17:31.448Z"
   },
   {
    "duration": 27,
    "start_time": "2024-10-11T18:17:44.431Z"
   },
   {
    "duration": 26,
    "start_time": "2024-10-11T18:18:49.957Z"
   },
   {
    "duration": 27,
    "start_time": "2024-10-11T18:19:17.426Z"
   },
   {
    "duration": 27,
    "start_time": "2024-10-11T18:19:28.959Z"
   },
   {
    "duration": 32,
    "start_time": "2024-10-11T18:19:51.613Z"
   },
   {
    "duration": 33,
    "start_time": "2024-10-11T18:20:10.995Z"
   },
   {
    "duration": 38,
    "start_time": "2024-10-11T18:20:18.816Z"
   },
   {
    "duration": 38,
    "start_time": "2024-10-11T18:22:14.705Z"
   },
   {
    "duration": 25,
    "start_time": "2024-10-11T18:22:23.545Z"
   },
   {
    "duration": 26,
    "start_time": "2024-10-11T18:22:33.836Z"
   },
   {
    "duration": 25,
    "start_time": "2024-10-11T18:27:20.127Z"
   },
   {
    "duration": 30,
    "start_time": "2024-10-11T18:27:23.614Z"
   },
   {
    "duration": 13,
    "start_time": "2024-10-11T18:27:28.739Z"
   },
   {
    "duration": 11,
    "start_time": "2024-10-11T18:27:47.649Z"
   },
   {
    "duration": 359,
    "start_time": "2024-10-12T11:50:35.711Z"
   },
   {
    "duration": 65,
    "start_time": "2024-10-12T11:50:36.071Z"
   },
   {
    "duration": 218,
    "start_time": "2024-10-12T11:50:36.412Z"
   },
   {
    "duration": 12,
    "start_time": "2024-10-12T11:50:36.687Z"
   },
   {
    "duration": 4,
    "start_time": "2024-10-12T11:50:48.239Z"
   },
   {
    "duration": 60,
    "start_time": "2024-10-12T11:50:50.373Z"
   },
   {
    "duration": 13,
    "start_time": "2024-10-12T11:50:53.941Z"
   },
   {
    "duration": 41,
    "start_time": "2024-10-12T11:51:35.067Z"
   },
   {
    "duration": 13,
    "start_time": "2024-10-12T11:52:09.641Z"
   },
   {
    "duration": 45,
    "start_time": "2024-10-12T11:52:10.592Z"
   },
   {
    "duration": 4,
    "start_time": "2024-10-12T11:52:20.580Z"
   },
   {
    "duration": 56,
    "start_time": "2024-10-12T11:52:22.451Z"
   },
   {
    "duration": 13,
    "start_time": "2024-10-12T11:52:24.430Z"
   },
   {
    "duration": 3,
    "start_time": "2024-10-12T11:52:50.380Z"
   },
   {
    "duration": 66,
    "start_time": "2024-10-12T11:52:54.738Z"
   },
   {
    "duration": 40,
    "start_time": "2024-10-12T11:53:12.362Z"
   },
   {
    "duration": 14,
    "start_time": "2024-10-12T11:53:16.569Z"
   },
   {
    "duration": 16,
    "start_time": "2024-10-12T11:55:00.695Z"
   },
   {
    "duration": 42,
    "start_time": "2024-10-12T11:58:37.339Z"
   },
   {
    "duration": 393,
    "start_time": "2024-10-12T11:59:04.549Z"
   },
   {
    "duration": 63,
    "start_time": "2024-10-12T11:59:05.985Z"
   },
   {
    "duration": 5,
    "start_time": "2024-10-12T11:59:14.600Z"
   },
   {
    "duration": 4,
    "start_time": "2024-10-12T11:59:19.475Z"
   },
   {
    "duration": 8,
    "start_time": "2024-10-12T11:59:34.773Z"
   },
   {
    "duration": 28,
    "start_time": "2024-10-12T11:59:42.853Z"
   },
   {
    "duration": 12,
    "start_time": "2024-10-12T11:59:49.834Z"
   },
   {
    "duration": 32,
    "start_time": "2024-10-12T11:59:52.739Z"
   },
   {
    "duration": 9,
    "start_time": "2024-10-12T12:02:06.375Z"
   },
   {
    "duration": 12,
    "start_time": "2024-10-12T12:12:30.957Z"
   },
   {
    "duration": 24,
    "start_time": "2024-10-12T12:12:37.647Z"
   },
   {
    "duration": 655,
    "start_time": "2024-10-12T12:12:48.935Z"
   },
   {
    "duration": 9,
    "start_time": "2024-10-12T12:13:20.819Z"
   },
   {
    "duration": 8,
    "start_time": "2024-10-12T12:13:42.071Z"
   },
   {
    "duration": 13,
    "start_time": "2024-10-12T12:24:07.624Z"
   },
   {
    "duration": 111,
    "start_time": "2024-10-12T12:24:57.415Z"
   },
   {
    "duration": 105,
    "start_time": "2024-10-12T12:26:34.472Z"
   },
   {
    "duration": 4,
    "start_time": "2024-10-12T12:28:37.972Z"
   },
   {
    "duration": 60,
    "start_time": "2024-10-12T12:28:38.426Z"
   },
   {
    "duration": 5,
    "start_time": "2024-10-12T12:28:39.028Z"
   },
   {
    "duration": 6,
    "start_time": "2024-10-12T12:28:39.507Z"
   },
   {
    "duration": 26,
    "start_time": "2024-10-12T12:28:40.257Z"
   },
   {
    "duration": 11,
    "start_time": "2024-10-12T12:28:41.228Z"
   },
   {
    "duration": 25,
    "start_time": "2024-10-12T12:28:42.346Z"
   },
   {
    "duration": 8,
    "start_time": "2024-10-12T12:28:44.464Z"
   },
   {
    "duration": 104,
    "start_time": "2024-10-12T12:28:47.567Z"
   },
   {
    "duration": 14,
    "start_time": "2024-10-12T12:28:56.307Z"
   },
   {
    "duration": 13,
    "start_time": "2024-10-12T12:29:48.246Z"
   },
   {
    "duration": 10,
    "start_time": "2024-10-12T12:35:29.597Z"
   },
   {
    "duration": 9,
    "start_time": "2024-10-12T12:38:21.700Z"
   },
   {
    "duration": 10,
    "start_time": "2024-10-12T12:46:42.899Z"
   },
   {
    "duration": 9,
    "start_time": "2024-10-12T12:53:31.366Z"
   },
   {
    "duration": 24,
    "start_time": "2024-10-12T12:57:51.502Z"
   },
   {
    "duration": 9,
    "start_time": "2024-10-12T12:59:12.729Z"
   },
   {
    "duration": 13,
    "start_time": "2024-10-12T12:59:16.827Z"
   },
   {
    "duration": 10,
    "start_time": "2024-10-12T12:59:18.485Z"
   },
   {
    "duration": 157,
    "start_time": "2024-10-12T16:26:49.373Z"
   },
   {
    "duration": 373,
    "start_time": "2024-10-12T16:26:57.390Z"
   },
   {
    "duration": 3,
    "start_time": "2024-10-12T16:28:37.709Z"
   },
   {
    "duration": 2,
    "start_time": "2024-10-12T16:28:37.965Z"
   },
   {
    "duration": 4,
    "start_time": "2024-10-12T16:28:41.561Z"
   },
   {
    "duration": 3,
    "start_time": "2024-10-12T16:28:41.750Z"
   },
   {
    "duration": 2,
    "start_time": "2024-10-12T16:28:41.934Z"
   },
   {
    "duration": 103,
    "start_time": "2024-10-12T16:28:43.149Z"
   },
   {
    "duration": 7,
    "start_time": "2024-10-12T16:28:43.554Z"
   },
   {
    "duration": 7,
    "start_time": "2024-10-12T16:28:43.720Z"
   },
   {
    "duration": 25,
    "start_time": "2024-10-12T16:28:44.219Z"
   },
   {
    "duration": 12,
    "start_time": "2024-10-12T16:28:45.651Z"
   },
   {
    "duration": 32,
    "start_time": "2024-10-12T16:28:47.462Z"
   },
   {
    "duration": 26,
    "start_time": "2024-10-12T16:29:39.384Z"
   },
   {
    "duration": 10,
    "start_time": "2024-10-12T16:29:58.852Z"
   },
   {
    "duration": 476,
    "start_time": "2024-10-12T16:30:29.882Z"
   },
   {
    "duration": 102,
    "start_time": "2024-10-12T16:30:56.911Z"
   },
   {
    "duration": 103,
    "start_time": "2024-10-12T16:33:20.212Z"
   },
   {
    "duration": 25,
    "start_time": "2024-10-12T16:33:46.168Z"
   },
   {
    "duration": 102,
    "start_time": "2024-10-12T16:33:54.013Z"
   },
   {
    "duration": 101,
    "start_time": "2024-10-12T16:34:18.961Z"
   },
   {
    "duration": 109,
    "start_time": "2024-10-12T16:34:29.719Z"
   },
   {
    "duration": 102,
    "start_time": "2024-10-12T16:34:35.516Z"
   },
   {
    "duration": 101,
    "start_time": "2024-10-12T16:36:28.417Z"
   },
   {
    "duration": 10,
    "start_time": "2024-10-12T16:37:21.572Z"
   },
   {
    "duration": 13,
    "start_time": "2024-10-12T16:37:43.268Z"
   }
  ],
  "kernelspec": {
   "display_name": "Python 3 (ipykernel)",
   "language": "python",
   "name": "python3"
  },
  "language_info": {
   "codemirror_mode": {
    "name": "ipython",
    "version": 3
   },
   "file_extension": ".py",
   "mimetype": "text/x-python",
   "name": "python",
   "nbconvert_exporter": "python",
   "pygments_lexer": "ipython3",
   "version": "3.9.19"
  },
  "toc": {
   "base_numbering": 1,
   "nav_menu": {},
   "number_sections": true,
   "sideBar": true,
   "skip_h1_title": true,
   "title_cell": "Table of Contents",
   "title_sidebar": "Contents",
   "toc_cell": false,
   "toc_position": {
    "height": "calc(100% - 180px)",
    "left": "10px",
    "top": "150px",
    "width": "165px"
   },
   "toc_section_display": true,
   "toc_window_display": false
  }
 },
 "nbformat": 4,
 "nbformat_minor": 2
}
